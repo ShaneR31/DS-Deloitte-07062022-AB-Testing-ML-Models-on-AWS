{
 "cells": [
  {
   "attachments": {},
   "cell_type": "markdown",
   "metadata": {},
   "source": [
    "#### Were you able to successfully create and execute the pipeline using the provided walkthrough?\n",
    "Yes\n",
    "\n",
    "#### What (if any) blockers did you encounter?\n",
    "None\n",
    "\n",
    "#### Do you have any suggestions for improving this material?\n",
    "No"
   ]
  }
 ],
 "metadata": {
  "kernelspec": {
   "display_name": "learn-env",
   "language": "python",
   "name": "python3"
  },
  "language_info": {
   "codemirror_mode": {
    "name": "ipython",
    "version": 3
   },
   "file_extension": ".py",
   "mimetype": "text/x-python",
   "name": "python",
   "nbconvert_exporter": "python",
   "pygments_lexer": "ipython3",
   "version": "3.8.5"
  },
  "orig_nbformat": 4
 },
 "nbformat": 4,
 "nbformat_minor": 2
}
